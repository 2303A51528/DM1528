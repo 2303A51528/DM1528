{
  "nbformat": 4,
  "nbformat_minor": 0,
  "metadata": {
    "colab": {
      "provenance": [],
      "authorship_tag": "ABX9TyPTDI5U95f5bydnlQfC8FXv",
      "include_colab_link": true
    },
    "kernelspec": {
      "name": "python3",
      "display_name": "Python 3"
    },
    "language_info": {
      "name": "python"
    }
  },
  "cells": [
    {
      "cell_type": "markdown",
      "metadata": {
        "id": "view-in-github",
        "colab_type": "text"
      },
      "source": [
        "<a href=\"https://colab.research.google.com/github/2303A51528/DM1528/blob/main/lab7.ipynb\" target=\"_parent\"><img src=\"https://colab.research.google.com/assets/colab-badge.svg\" alt=\"Open In Colab\"/></a>"
      ]
    },
    {
      "cell_type": "code",
      "source": [
        "import pandas as pd\n",
        "# Creating the table\n",
        "data = {\n",
        "    \"hours\": [\"1hr\", \"2hrs\", \"4hrs\", \"5hrs\", \"6hrs\", \"8hrs\", \"10hrs\"],\n",
        "    \"score\": [40, 50, 60, 70, 80, 90, 100]\n",
        "}\n",
        "df = pd.DataFrame(data)\n",
        "# Display the DataFrame\n",
        "print(df)\n",
        "\n"
      ],
      "metadata": {
        "colab": {
          "base_uri": "https://localhost:8080/"
        },
        "id": "efI3WxDO8gCH",
        "outputId": "eb358f94-3bf5-41cc-a616-9aa7c0f4631b"
      },
      "execution_count": 12,
      "outputs": [
        {
          "output_type": "stream",
          "name": "stdout",
          "text": [
            "   hours  score\n",
            "0    1hr     40\n",
            "1   2hrs     50\n",
            "2   4hrs     60\n",
            "3   5hrs     70\n",
            "4   6hrs     80\n",
            "5   8hrs     90\n",
            "6  10hrs    100\n"
          ]
        }
      ]
    },
    {
      "source": [
        "x = 'hours'\n",
        "y = 'score'"
      ],
      "cell_type": "code",
      "metadata": {
        "id": "bZumTUWg-a1_"
      },
      "execution_count": 13,
      "outputs": []
    },
    {
      "cell_type": "code",
      "source": [
        "x_train=x[:8]\n",
        "y=train=y[:8]\n",
        "\n",
        "x_test=x[8:]\n",
        "y_test=y[8:]"
      ],
      "metadata": {
        "id": "NoriM49V--gv"
      },
      "execution_count": 14,
      "outputs": []
    },
    {
      "cell_type": "code",
      "source": [
        "print(\"training data(x):\",x_train)\n",
        "print(\"training data(y):\",y_train)\n",
        "print(\"testing data(x):\",x_test)\n",
        "print(\"testing data(y):\",y_test)"
      ],
      "metadata": {
        "colab": {
          "base_uri": "https://localhost:8080/"
        },
        "id": "StfXfuHr_U90",
        "outputId": "3bcbffc8-d114-4d51-8cb0-bcdf0df9ab5a"
      },
      "execution_count": 17,
      "outputs": [
        {
          "output_type": "stream",
          "name": "stdout",
          "text": [
            "training data(x): hours\n",
            "training data(y): score\n",
            "testing data(x): \n",
            "testing data(y): \n"
          ]
        }
      ]
    },
    {
      "source": [
        "x_train=x[:8]\n",
        "y_train=y[:8] # Assign to y_train instead of y and train\n",
        "\n",
        "x_test=x[8:]\n",
        "y_test=y[8:]"
      ],
      "cell_type": "code",
      "metadata": {
        "id": "rQERU6wZ_5u5"
      },
      "execution_count": 16,
      "outputs": []
    },
    {
      "cell_type": "code",
      "source": [
        "x_mean=np.mean(x_train)\n",
        "y_mean=np.mean(Y_train)\n",
        "\n",
        "numerator=np.sum((x_train-x_mean)*(y_train-y_mean))\n",
        "denominator=np.sum((x_train-x_mean)**2)\n",
        "beta_1=numerator/denominator\n",
        "print(\"intercent(beta_1):\",beta_1)\n",
        "beta_0=y_mean-(beta_1*x_mean)\n",
        "print(\"slope(beta_0):\",beta_0)\n"
      ],
      "metadata": {
        "colab": {
          "base_uri": "https://localhost:8080/",
          "height": 373
        },
        "id": "zK01Q1KYAmFc",
        "outputId": "6c6373f4-5213-4240-864a-4766a7ea45e8"
      },
      "execution_count": 18,
      "outputs": [
        {
          "output_type": "error",
          "ename": "TypeError",
          "evalue": "the resolved dtypes are not compatible with add.reduce. Resolved (dtype('<U5'), dtype('<U5'), dtype('<U10'))",
          "traceback": [
            "\u001b[0;31m---------------------------------------------------------------------------\u001b[0m",
            "\u001b[0;31mTypeError\u001b[0m                                 Traceback (most recent call last)",
            "\u001b[0;32m<ipython-input-18-fa9daa8ac862>\u001b[0m in \u001b[0;36m<cell line: 0>\u001b[0;34m()\u001b[0m\n\u001b[0;32m----> 1\u001b[0;31m \u001b[0mx_mean\u001b[0m\u001b[0;34m=\u001b[0m\u001b[0mnp\u001b[0m\u001b[0;34m.\u001b[0m\u001b[0mmean\u001b[0m\u001b[0;34m(\u001b[0m\u001b[0mx_train\u001b[0m\u001b[0;34m)\u001b[0m\u001b[0;34m\u001b[0m\u001b[0;34m\u001b[0m\u001b[0m\n\u001b[0m\u001b[1;32m      2\u001b[0m \u001b[0my_mean\u001b[0m\u001b[0;34m=\u001b[0m\u001b[0mnp\u001b[0m\u001b[0;34m.\u001b[0m\u001b[0mmean\u001b[0m\u001b[0;34m(\u001b[0m\u001b[0mY_train\u001b[0m\u001b[0;34m)\u001b[0m\u001b[0;34m\u001b[0m\u001b[0;34m\u001b[0m\u001b[0m\n\u001b[1;32m      3\u001b[0m \u001b[0;34m\u001b[0m\u001b[0m\n\u001b[1;32m      4\u001b[0m \u001b[0mnumerator\u001b[0m\u001b[0;34m=\u001b[0m\u001b[0mnp\u001b[0m\u001b[0;34m.\u001b[0m\u001b[0msum\u001b[0m\u001b[0;34m(\u001b[0m\u001b[0;34m(\u001b[0m\u001b[0mx_train\u001b[0m\u001b[0;34m-\u001b[0m\u001b[0mx_mean\u001b[0m\u001b[0;34m)\u001b[0m\u001b[0;34m*\u001b[0m\u001b[0;34m(\u001b[0m\u001b[0my_train\u001b[0m\u001b[0;34m-\u001b[0m\u001b[0my_mean\u001b[0m\u001b[0;34m)\u001b[0m\u001b[0;34m)\u001b[0m\u001b[0;34m\u001b[0m\u001b[0;34m\u001b[0m\u001b[0m\n\u001b[1;32m      5\u001b[0m \u001b[0mdenominator\u001b[0m\u001b[0;34m=\u001b[0m\u001b[0mnp\u001b[0m\u001b[0;34m.\u001b[0m\u001b[0msum\u001b[0m\u001b[0;34m(\u001b[0m\u001b[0;34m(\u001b[0m\u001b[0mx_train\u001b[0m\u001b[0;34m-\u001b[0m\u001b[0mx_mean\u001b[0m\u001b[0;34m)\u001b[0m\u001b[0;34m**\u001b[0m\u001b[0;36m2\u001b[0m\u001b[0;34m)\u001b[0m\u001b[0;34m\u001b[0m\u001b[0;34m\u001b[0m\u001b[0m\n",
            "\u001b[0;32m/usr/local/lib/python3.11/dist-packages/numpy/_core/fromnumeric.py\u001b[0m in \u001b[0;36mmean\u001b[0;34m(a, axis, dtype, out, keepdims, where)\u001b[0m\n\u001b[1;32m   3594\u001b[0m             \u001b[0;32mreturn\u001b[0m \u001b[0mmean\u001b[0m\u001b[0;34m(\u001b[0m\u001b[0maxis\u001b[0m\u001b[0;34m=\u001b[0m\u001b[0maxis\u001b[0m\u001b[0;34m,\u001b[0m \u001b[0mdtype\u001b[0m\u001b[0;34m=\u001b[0m\u001b[0mdtype\u001b[0m\u001b[0;34m,\u001b[0m \u001b[0mout\u001b[0m\u001b[0;34m=\u001b[0m\u001b[0mout\u001b[0m\u001b[0;34m,\u001b[0m \u001b[0;34m**\u001b[0m\u001b[0mkwargs\u001b[0m\u001b[0;34m)\u001b[0m\u001b[0;34m\u001b[0m\u001b[0;34m\u001b[0m\u001b[0m\n\u001b[1;32m   3595\u001b[0m \u001b[0;34m\u001b[0m\u001b[0m\n\u001b[0;32m-> 3596\u001b[0;31m     return _methods._mean(a, axis=axis, dtype=dtype,\n\u001b[0m\u001b[1;32m   3597\u001b[0m                           out=out, **kwargs)\n\u001b[1;32m   3598\u001b[0m \u001b[0;34m\u001b[0m\u001b[0m\n",
            "\u001b[0;32m/usr/local/lib/python3.11/dist-packages/numpy/_core/_methods.py\u001b[0m in \u001b[0;36m_mean\u001b[0;34m(a, axis, dtype, out, keepdims, where)\u001b[0m\n\u001b[1;32m    125\u001b[0m             \u001b[0mis_float16_result\u001b[0m \u001b[0;34m=\u001b[0m \u001b[0;32mTrue\u001b[0m\u001b[0;34m\u001b[0m\u001b[0;34m\u001b[0m\u001b[0m\n\u001b[1;32m    126\u001b[0m \u001b[0;34m\u001b[0m\u001b[0m\n\u001b[0;32m--> 127\u001b[0;31m     \u001b[0mret\u001b[0m \u001b[0;34m=\u001b[0m \u001b[0mumr_sum\u001b[0m\u001b[0;34m(\u001b[0m\u001b[0marr\u001b[0m\u001b[0;34m,\u001b[0m \u001b[0maxis\u001b[0m\u001b[0;34m,\u001b[0m \u001b[0mdtype\u001b[0m\u001b[0;34m,\u001b[0m \u001b[0mout\u001b[0m\u001b[0;34m,\u001b[0m \u001b[0mkeepdims\u001b[0m\u001b[0;34m,\u001b[0m \u001b[0mwhere\u001b[0m\u001b[0;34m=\u001b[0m\u001b[0mwhere\u001b[0m\u001b[0;34m)\u001b[0m\u001b[0;34m\u001b[0m\u001b[0;34m\u001b[0m\u001b[0m\n\u001b[0m\u001b[1;32m    128\u001b[0m     \u001b[0;32mif\u001b[0m \u001b[0misinstance\u001b[0m\u001b[0;34m(\u001b[0m\u001b[0mret\u001b[0m\u001b[0;34m,\u001b[0m \u001b[0mmu\u001b[0m\u001b[0;34m.\u001b[0m\u001b[0mndarray\u001b[0m\u001b[0;34m)\u001b[0m\u001b[0;34m:\u001b[0m\u001b[0;34m\u001b[0m\u001b[0;34m\u001b[0m\u001b[0m\n\u001b[1;32m    129\u001b[0m         \u001b[0;32mwith\u001b[0m \u001b[0m_no_nep50_warning\u001b[0m\u001b[0;34m(\u001b[0m\u001b[0;34m)\u001b[0m\u001b[0;34m:\u001b[0m\u001b[0;34m\u001b[0m\u001b[0;34m\u001b[0m\u001b[0m\n",
            "\u001b[0;31mTypeError\u001b[0m: the resolved dtypes are not compatible with add.reduce. Resolved (dtype('<U5'), dtype('<U5'), dtype('<U10'))"
          ]
        }
      ]
    },
    {
      "source": [
        "import pandas as pd\n",
        "import numpy as np\n",
        "\n",
        "# Creating the table\n",
        "data = {\n",
        "    \"hours\": [\"1hr\", \"2hrs\", \"4hrs\", \"5hrs\", \"6hrs\", \"8hrs\", \"10hrs\"],\n",
        "    \"score\": [40, 50, 60, 70, 80, 90, 100]\n",
        "}\n",
        "df = pd.DataFrame(data)\n",
        "\n",
        "# Define x and y as column names\n",
        "x_col = 'hours'\n",
        "y_col = 'score'\n",
        "\n",
        "# Extract data from DataFrame for x and y\n",
        "x = df[x_col].values  # Use .values to get the underlying NumPy array\n",
        "y = df[y_col].values  # Use .values to get the underlying NumPy array\n",
        "\n",
        "# Convert 'hours' column to numerical by removing 'hr' or 'hrs' and converting to integers\n",
        "x = np.array([int(s.replace('hr', '').replace('s', '')) for s in x])\n",
        "\n",
        "\n",
        "# Split data into training and testing sets\n",
        "# Assuming you want to split the data based on some criteria,\n",
        "# For example, the first 5 rows for training and the rest for testing:\n",
        "x_train = x[:5]\n",
        "y_train = y[:5]\n",
        "\n",
        "x_test = x[5:]\n",
        "y_test = y[5:]\n",
        "\n",
        "# Calculate the mean\n",
        "x_mean = np.mean(x_train) # x_train and y_train are now NumPy arrays containing the data\n",
        "y_mean = np.mean(y_train) # Ensure 'Y_train' is changed to 'y_train'\n",
        "\n",
        "# ... (rest of your code for calculating beta_1 and beta_0)"
      ],
      "cell_type": "code",
      "metadata": {
        "id": "LTH5-Tq0C7XA"
      },
      "execution_count": 20,
      "outputs": []
    },
    {
      "cell_type": "code",
      "source": [
        "# Predict values (from ipython-input-21-c19b14ac863b\n",
        "y_pred=beta_0+beta_1*x_test\n",
        "print(\"predicted values:\",y_pred)"
      ],
      "metadata": {
        "colab": {
          "base_uri": "https://localhost:8080/",
          "height": 176
        },
        "id": "ecvI5pLIDPR0",
        "outputId": "33eb3633-8655-495f-fecc-7c8ed70d5e5f"
      },
      "execution_count": 22,
      "outputs": [
        {
          "output_type": "error",
          "ename": "NameError",
          "evalue": "name 'beta_0' is not defined",
          "traceback": [
            "\u001b[0;31m---------------------------------------------------------------------------\u001b[0m",
            "\u001b[0;31mNameError\u001b[0m                                 Traceback (most recent call last)",
            "\u001b[0;32m<ipython-input-22-8dd5cc64d6fc>\u001b[0m in \u001b[0;36m<cell line: 0>\u001b[0;34m()\u001b[0m\n\u001b[1;32m      1\u001b[0m \u001b[0;31m# Predict values (from ipython-input-21-c19b14ac863b\u001b[0m\u001b[0;34m\u001b[0m\u001b[0;34m\u001b[0m\u001b[0m\n\u001b[0;32m----> 2\u001b[0;31m \u001b[0my_pred\u001b[0m\u001b[0;34m=\u001b[0m\u001b[0mbeta_0\u001b[0m\u001b[0;34m+\u001b[0m\u001b[0mbeta_1\u001b[0m\u001b[0;34m*\u001b[0m\u001b[0mx_test\u001b[0m\u001b[0;34m\u001b[0m\u001b[0;34m\u001b[0m\u001b[0m\n\u001b[0m\u001b[1;32m      3\u001b[0m \u001b[0mprint\u001b[0m\u001b[0;34m(\u001b[0m\u001b[0;34m\"predicted values:\"\u001b[0m\u001b[0;34m,\u001b[0m\u001b[0my_pred\u001b[0m\u001b[0;34m)\u001b[0m\u001b[0;34m\u001b[0m\u001b[0;34m\u001b[0m\u001b[0m\n",
            "\u001b[0;31mNameError\u001b[0m: name 'beta_0' is not defined"
          ]
        }
      ]
    },
    {
      "source": [
        "import numpy as np\n",
        "x=np.array([1,2,3,4,5,6,7,8,9,10])\n",
        "y=np.array([55,60,65,70,75,80,85,90,95,100])\n",
        "print(x) # Print the variable 'x' which contains the hours data\n",
        "print(y) # Print the variable 'y' which contains the score data"
      ],
      "cell_type": "code",
      "metadata": {
        "colab": {
          "base_uri": "https://localhost:8080/"
        },
        "id": "3wW-Dt-aEdz4",
        "outputId": "1709415c-70e1-4705-c92a-9617781c0853"
      },
      "execution_count": 25,
      "outputs": [
        {
          "output_type": "stream",
          "name": "stdout",
          "text": [
            "[ 1  2  3  4  5  6  7  8  9 10]\n",
            "[ 55  60  65  70  75  80  85  90  95 100]\n"
          ]
        }
      ]
    },
    {
      "cell_type": "code",
      "source": [
        "x_train=x[:8]\n",
        "y_train=y[:8]\n",
        "x_test=x[8:]\n",
        "y_test=y[8:]\n",
        "print(\"Training data of hours:\",x_train)\n",
        "print(\"Training data of score:\",y_train)\n",
        "print(\"Testing data of hours:\",x_test)\n",
        "print(\"Testing data of score:\",y_test)"
      ],
      "metadata": {
        "colab": {
          "base_uri": "https://localhost:8080/"
        },
        "id": "2GEpKVn0EN6M",
        "outputId": "c0a30cda-931d-469f-ed74-2dfe21c31dff"
      },
      "execution_count": 23,
      "outputs": [
        {
          "output_type": "stream",
          "name": "stdout",
          "text": [
            "Training data of hours: [ 1  2  4  5  6  8 10]\n",
            "Training data of score: [ 40  50  60  70  80  90 100]\n",
            "Testing data of hours: []\n",
            "Testing data of score: []\n"
          ]
        }
      ]
    },
    {
      "cell_type": "code",
      "source": [
        "x_mean=np.mean(x_train)\n",
        "y_mean=np.mean(y_train)\n",
        "numerator=np.sum((x_train-x_mean)*(y_train-y_mean))\n",
        "denominator=np.sum((x_train-x_mean)**2)\n",
        "beta_1=numerator/denominator\n",
        "print(\"Intercept(beta_1):\",beta_1)\n",
        "beta_0=y_mean-beta_1*x_mean\n",
        "print(\"Slope(beta_0):\",beta_0)\n",
        "y_pred=beta_0+beta_1*x_test\n",
        "print(\"Predicted values:\",y_pred)"
      ],
      "metadata": {
        "colab": {
          "base_uri": "https://localhost:8080/"
        },
        "id": "IzEBo65UEhrJ",
        "outputId": "f14f935b-582c-422d-9b8a-2ffafa1a2362"
      },
      "execution_count": 26,
      "outputs": [
        {
          "output_type": "stream",
          "name": "stdout",
          "text": [
            "Intercept(beta_1): 6.737089201877934\n",
            "Slope(beta_0): 35.352112676056336\n",
            "Predicted values: []\n"
          ]
        }
      ]
    },
    {
      "cell_type": "code",
      "source": [
        "mse=np.mean((y_test-y_pred)**2)\n",
        "ss_total=np.sum((y_test-y_mean)**2)\n",
        "ss_residual=np.sum((y_test-y_pred)**2)\n",
        "r_squared=1-(ss_residual/ss_total)\n",
        "print(\"R-squared:\",r_squared)\n",
        "print(\"Mean Squared Error:\",mse)"
      ],
      "metadata": {
        "colab": {
          "base_uri": "https://localhost:8080/"
        },
        "id": "7peAdm_qEmQD",
        "outputId": "d586565d-c3a0-49f3-eb5c-95721bc25f65"
      },
      "execution_count": 27,
      "outputs": [
        {
          "output_type": "stream",
          "name": "stdout",
          "text": [
            "R-squared: nan\n",
            "Mean Squared Error: nan\n"
          ]
        },
        {
          "output_type": "stream",
          "name": "stderr",
          "text": [
            "/usr/local/lib/python3.11/dist-packages/numpy/_core/fromnumeric.py:3596: RuntimeWarning: Mean of empty slice.\n",
            "  return _methods._mean(a, axis=axis, dtype=dtype,\n",
            "/usr/local/lib/python3.11/dist-packages/numpy/_core/_methods.py:138: RuntimeWarning: invalid value encountered in scalar divide\n",
            "  ret = ret.dtype.type(ret / rcount)\n",
            "<ipython-input-27-721a0292ebd0>:4: RuntimeWarning: invalid value encountered in scalar divide\n",
            "  r_squared=1-(ss_residual/ss_total)\n"
          ]
        }
      ]
    },
    {
      "cell_type": "code",
      "source": [
        "import matplotlib.pyplot as plt\n",
        "plt.scatter(x_train,y_train,color='blue',label='Training data')\n",
        "plt.scatter(x_test,y_test,color='red',label='Testing data')\n",
        "plt.plot(x_test,y_pred,color='green',linestyle='dashed',label='Regression Line')\n",
        "plt.xlabel(\"Hours studied (X)\")\n",
        "plt.ylabel(\"Marks Scored (Y)\")\n",
        "plt.legend()\n",
        "plt.title(\"Simple Linear Regression\")\n",
        "plt.show()"
      ],
      "metadata": {
        "colab": {
          "base_uri": "https://localhost:8080/",
          "height": 472
        },
        "id": "ZpuHYnc1EqVS",
        "outputId": "406cfdaf-8f5b-4fff-a3b1-b999656b6552"
      },
      "execution_count": 28,
      "outputs": [
        {
          "output_type": "display_data",
          "data": {
            "text/plain": [
              "<Figure size 640x480 with 1 Axes>"
            ],
            "image/png": "[encoded data removed]"
          },
          "metadata": {}
        }
      ]
    },
    {
      "cell_type": "code",
      "source": [
        "plt.scatter(x,y, color=\"blue\")\n",
        "plt.xlabel(\"Hours (X)\")\n",
        "plt.ylabel(\"Score (Y)\")\n",
        "plt.title(\"Generated Data for Linear Regression\")\n",
        "plt.show()"
      ],
      "metadata": {
        "colab": {
          "base_uri": "https://localhost:8080/",
          "height": 472
        },
        "id": "s3XsCAS1Eugs",
        "outputId": "c2b70323-6776-4ce9-ba3b-d2dff7235792"
      },
      "execution_count": 29,
      "outputs": [
        {
          "output_type": "display_data",
          "data": {
            "text/plain": [
              "<Figure size 640x480 with 1 Axes>"
            ],
            "image/png": "[encoded data removed]"
          },
          "metadata": {}
        }
      ]
    },
    {
      "cell_type": "code",
      "source": [],
      "metadata": {
        "id": "Ofr43U2EGFLo"
      },
      "execution_count": null,
      "outputs": []
    }
  ]
}